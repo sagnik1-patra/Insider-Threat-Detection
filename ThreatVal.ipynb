{
 "cells": [
  {
   "cell_type": "code",
   "execution_count": 1,
   "id": "756e2fa5-297a-4dff-a760-5354eb762e7f",
   "metadata": {},
   "outputs": [
    {
     "data": {
      "image/png": "[encoded data removed]",
      "text/plain": [
       "<Figure size 640x480 with 1 Axes>"
      ]
     },
     "metadata": {},
     "output_type": "display_data"
    },
    {
     "name": "stdout",
     "output_type": "stream",
     "text": [
      "✅ Dataset saved to: C:\\Users\\sagni\\Downloads\\Insider Threat Detection\\threat_users.csv\n"
     ]
    }
   ],
   "source": [
    "# 📚 Step 1: Import all necessary libraries\n",
    "import numpy as np\n",
    "import pandas as pd\n",
    "from datetime import datetime, timedelta\n",
    "import random\n",
    "import os\n",
    "from sklearn.preprocessing import StandardScaler\n",
    "from sklearn.ensemble import IsolationForest, RandomForestClassifier\n",
    "from sklearn.cluster import KMeans\n",
    "import matplotlib.pyplot as plt\n",
    "import seaborn as sns\n",
    "# 🧪 Step 2: Generate Synthetic Enterprise Logs\n",
    "def generate_synthetic_logs(num_users=50, days=10):\n",
    "    logs = []\n",
    "    base_time = datetime.now()\n",
    "\n",
    "    for user_id in range(1, num_users + 1):\n",
    "        for day in range(days):\n",
    "            date = base_time - timedelta(days=day)\n",
    "            logins = random.randint(1, 3)\n",
    "            for _ in range(logins):\n",
    "                login_time = date + timedelta(hours=random.randint(6, 22))\n",
    "                file_access = random.randint(5, 20)\n",
    "                email_count = random.randint(10, 50)\n",
    "                privileged_access = random.choices([0, 1], weights=[0.9, 0.1])[0]\n",
    "                logs.append({\n",
    "                    'user_id': f'user_{user_id}',\n",
    "                    'timestamp': login_time,\n",
    "                    'file_access_count': file_access,\n",
    "                    'email_sent': email_count,\n",
    "                    'privileged_access': privileged_access\n",
    "                })\n",
    "    \n",
    "    return pd.DataFrame(logs)\n",
    "\n",
    "logs_df = generate_synthetic_logs()\n",
    "logs_df['timestamp'] = pd.to_datetime(logs_df['timestamp'])\n",
    "logs_df.head()\n",
    "# 🧼 Step 3: Feature Engineering\n",
    "features_df = logs_df.copy()\n",
    "features_df['hour'] = features_df['timestamp'].dt.hour\n",
    "features_df = features_df.groupby('user_id').agg({\n",
    "    'file_access_count': 'mean',\n",
    "    'email_sent': 'mean',\n",
    "    'privileged_access': 'sum',\n",
    "    'hour': 'mean'\n",
    "}).reset_index()\n",
    "\n",
    "# Normalize Features\n",
    "scaler = StandardScaler()\n",
    "X_scaled = scaler.fit_transform(features_df.drop('user_id', axis=1))\n",
    "features_df_scaled = pd.DataFrame(X_scaled, columns=['file_access', 'email_sent', 'privileged_access', 'avg_hour'])\n",
    "features_df_scaled['user_id'] = features_df['user_id']\n",
    "# 🚨 Step 4: Anomaly Detection using Isolation Forest\n",
    "iso_forest = IsolationForest(contamination=0.1, random_state=42)\n",
    "features_df_scaled['anomaly_score'] = iso_forest.fit_predict(features_df_scaled.drop('user_id', axis=1))\n",
    "# 🔀 Step 5: User Behavior Clustering\n",
    "kmeans = KMeans(n_clusters=3, random_state=42)\n",
    "features_df_scaled['cluster'] = kmeans.fit_predict(features_df_scaled.drop(['user_id', 'anomaly_score'], axis=1))\n",
    "# 🏷️ Step 6: Threat Label Assignment Function\n",
    "def assign_threat_label(row):\n",
    "    if row['privileged_access'] > 2:\n",
    "        return 'Malicious Insider'\n",
    "    elif row['anomaly_score'] == -1:\n",
    "        return 'Compromised Account'\n",
    "    else:\n",
    "        return 'Careless Insider'\n",
    "\n",
    "features_df_scaled['predicted_label'] = features_df_scaled.apply(assign_threat_label, axis=1)\n",
    "# 🧠 Step 7: Optional Classifier Training (for experimentation)\n",
    "X = features_df_scaled.drop(['user_id', 'predicted_label'], axis=1)\n",
    "y = features_df_scaled['predicted_label']\n",
    "clf = RandomForestClassifier()\n",
    "clf.fit(X, y)\n",
    "features_df_scaled['predicted_label'] = clf.predict(X)\n",
    "# 📊 Step 8: Visualize Threat Distribution\n",
    "label_counts = features_df_scaled['predicted_label'].value_counts()\n",
    "sns.barplot(x=label_counts.index, y=label_counts.values)\n",
    "plt.title(\"Threat Label Distribution\")\n",
    "plt.ylabel(\"Number of Users\")\n",
    "plt.show()\n",
    "# 💾 Step 9: Save the Final Results to the Given Path\n",
    "output_folder = r\"C:\\Users\\sagni\\Downloads\\Insider Threat Detection\"\n",
    "os.makedirs(output_folder, exist_ok=True)\n",
    "\n",
    "output_path = os.path.join(output_folder, \"threat_users.csv\")\n",
    "features_df_scaled[['user_id', 'predicted_label']].to_csv(output_path, index=False)\n",
    "\n",
    "print(f\"✅ Dataset saved to: {output_path}\")\n"
   ]
  },
  {
   "cell_type": "code",
   "execution_count": null,
   "id": "4785bb64-3155-4a1c-9907-cee3b1317f97",
   "metadata": {},
   "outputs": [],
   "source": []
  }
 ],
 "metadata": {
  "kernelspec": {
   "display_name": "Python 3.11 (moviepy)",
   "language": "python",
   "name": "py311"
  },
  "language_info": {
   "codemirror_mode": {
    "name": "ipython",
    "version": 3
   },
   "file_extension": ".py",
   "mimetype": "text/x-python",
   "name": "python",
   "nbconvert_exporter": "python",
   "pygments_lexer": "ipython3",
   "version": "3.11.9"
  }
 },
 "nbformat": 4,
 "nbformat_minor": 5
}
